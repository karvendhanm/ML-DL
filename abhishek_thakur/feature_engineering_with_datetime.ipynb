{
 "cells": [
  {
   "cell_type": "code",
   "execution_count": 1,
   "metadata": {
    "collapsed": true,
    "ExecuteTime": {
     "end_time": "2023-05-15T15:45:00.059780998Z",
     "start_time": "2023-05-15T15:44:59.963548898Z"
    }
   },
   "outputs": [],
   "source": [
    "import pandas as pd\n",
    "\n",
    "from abhishek_thakur import util"
   ]
  },
  {
   "cell_type": "code",
   "execution_count": null,
   "outputs": [],
   "source": [
    "s = pd.date_range('2020-01-06', '2020-02-07', freq='7D').to_series()\n",
    "\n",
    "# create some features based on datetime\n",
    "features = {\n",
    "    'dayofweek': s.dt.dayofweek.values,\n",
    "    'dayofyear': s.dt.dayofyear.values,\n",
    "    'hour': s.dt.hour.values,\n",
    "    'is_leap_year': s.dt.is_leap_year.values,\n",
    "    'quarter': s.dt.quarter.values,\n",
    "    'weekofyear': s.dt.isocalendar().week.values\n",
    "}\n",
    "\n",
    "print(features)"
   ],
   "metadata": {
    "collapsed": false,
    "ExecuteTime": {
     "end_time": "2023-05-15T15:45:07.755746120Z",
     "start_time": "2023-05-15T15:45:07.719746642Z"
    }
   }
  },
  {
   "cell_type": "code",
   "execution_count": null,
   "outputs": [],
   "source": [
    "_dict = {\n",
    "    'date': [pd.to_datetime('2016-09-01'), pd.to_datetime('2017-04-01'), pd.to_datetime('2017-08-01'), pd.to_datetime('2017-12-01'), pd.to_datetime('2017-09-01')],\n",
    "    'customer_id': [146361, 180838, 157857, 159772, 80014],\n",
    "    'cat1': [2, 4, 3, 5, 3],\n",
    "    'cat2': [2, 1, 3, 1, 2],\n",
    "    'cat3': [0, 0, 1, 1, 1],\n",
    "    'num1': [-0.518679, 0.415853, -2.061687, -0.276558, -1.456827]\n",
    "}"
   ],
   "metadata": {
    "collapsed": false
   }
  },
  {
   "cell_type": "code",
   "execution_count": null,
   "outputs": [],
   "source": [
    "df = pd.DataFrame.from_dict(_dict)\n",
    "print(df.dtypes)\n",
    "\n",
    "df.sample(5, random_state=42)"
   ],
   "metadata": {
    "collapsed": false
   }
  },
  {
   "cell_type": "code",
   "execution_count": 33,
   "outputs": [
    {
     "ename": "AttributeError",
     "evalue": "module 'abhishek_thakur.util' has no attribute 'generate_features'",
     "output_type": "error",
     "traceback": [
      "\u001B[0;31m---------------------------------------------------------------------------\u001B[0m",
      "\u001B[0;31mAttributeError\u001B[0m                            Traceback (most recent call last)",
      "Cell \u001B[0;32mIn[33], line 1\u001B[0m\n\u001B[0;32m----> 1\u001B[0m agg_df \u001B[38;5;241m=\u001B[39m \u001B[43mutil\u001B[49m\u001B[38;5;241;43m.\u001B[39;49m\u001B[43mgenerate_features\u001B[49m(df)\n\u001B[1;32m      2\u001B[0m agg_df\u001B[38;5;241m.\u001B[39msample(\u001B[38;5;241m5\u001B[39m, random_state\u001B[38;5;241m=\u001B[39m\u001B[38;5;241m42\u001B[39m)\n",
      "\u001B[0;31mAttributeError\u001B[0m: module 'abhishek_thakur.util' has no attribute 'generate_features'"
     ]
    }
   ],
   "source": [
    "agg_df = util.generate_features(df)\n",
    "agg_df.sample(5, random_state=42)"
   ],
   "metadata": {
    "collapsed": false
   }
  },
  {
   "cell_type": "code",
   "execution_count": null,
   "outputs": [],
   "source": [],
   "metadata": {
    "collapsed": false
   }
  },
  {
   "cell_type": "code",
   "execution_count": null,
   "outputs": [],
   "source": [],
   "metadata": {
    "collapsed": false
   }
  }
 ],
 "metadata": {
  "kernelspec": {
   "display_name": "Python 3",
   "language": "python",
   "name": "python3"
  },
  "language_info": {
   "codemirror_mode": {
    "name": "ipython",
    "version": 2
   },
   "file_extension": ".py",
   "mimetype": "text/x-python",
   "name": "python",
   "nbconvert_exporter": "python",
   "pygments_lexer": "ipython2",
   "version": "2.7.6"
  }
 },
 "nbformat": 4,
 "nbformat_minor": 0
}
