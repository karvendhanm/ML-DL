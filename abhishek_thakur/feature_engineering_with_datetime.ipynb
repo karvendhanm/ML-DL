{
 "cells": [
  {
   "cell_type": "code",
   "execution_count": 1,
   "metadata": {
    "collapsed": true,
    "ExecuteTime": {
     "end_time": "2023-05-10T15:20:15.606797056Z",
     "start_time": "2023-05-10T15:20:15.509602470Z"
    }
   },
   "outputs": [],
   "source": [
    "import pandas as pd"
   ]
  },
  {
   "cell_type": "code",
   "execution_count": 2,
   "outputs": [
    {
     "name": "stdout",
     "output_type": "stream",
     "text": [
      "{'dayofweek': array([0, 0, 0, 0, 0], dtype=int32), 'dayofyear': array([ 6, 13, 20, 27, 34], dtype=int32), 'hour': array([0, 0, 0, 0, 0], dtype=int32), 'is_leap_year': array([ True,  True,  True,  True,  True]), 'quarter': array([1, 1, 1, 1, 1], dtype=int32), 'weekofyear': <IntegerArray>\n",
      "[2, 3, 4, 5, 6]\n",
      "Length: 5, dtype: UInt32}\n"
     ]
    }
   ],
   "source": [
    "s = pd.date_range('2020-01-06', '2020-02-07', freq='7D').to_series()\n",
    "\n",
    "# create some features based on datetime\n",
    "features = {\n",
    "    'dayofweek': s.dt.dayofweek.values,\n",
    "    'dayofyear': s.dt.dayofyear.values,\n",
    "    'hour': s.dt.hour.values,\n",
    "    'is_leap_year': s.dt.is_leap_year.values,\n",
    "    'quarter': s.dt.quarter.values,\n",
    "    'weekofyear': s.dt.isocalendar().week.values\n",
    "}\n",
    "\n",
    "print(features)"
   ],
   "metadata": {
    "collapsed": false,
    "ExecuteTime": {
     "end_time": "2023-05-10T15:20:15.611907185Z",
     "start_time": "2023-05-10T15:20:15.610393783Z"
    }
   }
  },
  {
   "cell_type": "code",
   "execution_count": 3,
   "outputs": [],
   "source": [
    "_dict = {\n",
    "    'date': [pd.to_datetime('2016-09-01'), pd.to_datetime('2017-04-01'), pd.to_datetime('2017-08-01'), pd.to_datetime('2017-12-01'), pd.to_datetime('2017-09-01')],\n",
    "    'customer_id': [146361, 180838, 157857, 159772, 80014],\n",
    "    'cat1': [2, 4, 3, 5, 3],\n",
    "    'cat2': [2, 1, 3, 1, 2],\n",
    "    'cat3': [0, 0, 1, 1, 1],\n",
    "    'num1': [-0.518679, 0.415853, -2.061687, -0.276558, -1.456827]\n",
    "}"
   ],
   "metadata": {
    "collapsed": false,
    "ExecuteTime": {
     "end_time": "2023-05-10T15:20:15.655172366Z",
     "start_time": "2023-05-10T15:20:15.613117539Z"
    }
   }
  },
  {
   "cell_type": "code",
   "execution_count": 4,
   "outputs": [
    {
     "name": "stdout",
     "output_type": "stream",
     "text": [
      "date           datetime64[ns]\n",
      "customer_id             int64\n",
      "cat1                    int64\n",
      "cat2                    int64\n",
      "cat3                    int64\n",
      "num1                  float64\n",
      "dtype: object\n"
     ]
    },
    {
     "data": {
      "text/plain": "        date  customer_id  cat1  cat2  cat3      num1\n1 2017-04-01       180838     4     1     0  0.415853\n4 2017-09-01        80014     3     2     1 -1.456827\n2 2017-08-01       157857     3     3     1 -2.061687\n0 2016-09-01       146361     2     2     0 -0.518679\n3 2017-12-01       159772     5     1     1 -0.276558",
      "text/html": "<div>\n<style scoped>\n    .dataframe tbody tr th:only-of-type {\n        vertical-align: middle;\n    }\n\n    .dataframe tbody tr th {\n        vertical-align: top;\n    }\n\n    .dataframe thead th {\n        text-align: right;\n    }\n</style>\n<table border=\"1\" class=\"dataframe\">\n  <thead>\n    <tr style=\"text-align: right;\">\n      <th></th>\n      <th>date</th>\n      <th>customer_id</th>\n      <th>cat1</th>\n      <th>cat2</th>\n      <th>cat3</th>\n      <th>num1</th>\n    </tr>\n  </thead>\n  <tbody>\n    <tr>\n      <th>1</th>\n      <td>2017-04-01</td>\n      <td>180838</td>\n      <td>4</td>\n      <td>1</td>\n      <td>0</td>\n      <td>0.415853</td>\n    </tr>\n    <tr>\n      <th>4</th>\n      <td>2017-09-01</td>\n      <td>80014</td>\n      <td>3</td>\n      <td>2</td>\n      <td>1</td>\n      <td>-1.456827</td>\n    </tr>\n    <tr>\n      <th>2</th>\n      <td>2017-08-01</td>\n      <td>157857</td>\n      <td>3</td>\n      <td>3</td>\n      <td>1</td>\n      <td>-2.061687</td>\n    </tr>\n    <tr>\n      <th>0</th>\n      <td>2016-09-01</td>\n      <td>146361</td>\n      <td>2</td>\n      <td>2</td>\n      <td>0</td>\n      <td>-0.518679</td>\n    </tr>\n    <tr>\n      <th>3</th>\n      <td>2017-12-01</td>\n      <td>159772</td>\n      <td>5</td>\n      <td>1</td>\n      <td>1</td>\n      <td>-0.276558</td>\n    </tr>\n  </tbody>\n</table>\n</div>"
     },
     "execution_count": 4,
     "metadata": {},
     "output_type": "execute_result"
    }
   ],
   "source": [
    "df = pd.DataFrame.from_dict(_dict)\n",
    "print(df.dtypes)\n",
    "\n",
    "df.sample(5, random_state=42)"
   ],
   "metadata": {
    "collapsed": false,
    "ExecuteTime": {
     "end_time": "2023-05-10T15:20:15.745423502Z",
     "start_time": "2023-05-10T15:20:15.632938504Z"
    }
   }
  },
  {
   "cell_type": "code",
   "execution_count": null,
   "outputs": [],
   "source": [
    "def generate_features(data):\n",
    "    \"\"\"\n",
    "\n",
    "    param data:\n",
    "    return:\n",
    "    \"\"\"\n",
    "    # create a bunch of features using the date column in the input.\n",
    "    df.loc[:, 'year'] = df['date'].dt.year\n",
    "    df.loc[:, 'weekofyear'] = df['date'].dt.isocalendar().week\n",
    "    df.loc[:, 'month'] = df['date'].dt.month\n",
    "    df.loc[:, 'dayofweek'] = df['date'].dt.dayofweek\n",
    "    df.loc[:, 'weekend'] = (df['date'].dt.weekday>=5).astype(int)\n",
    "\n",
    "    # create an aggregate dictionary\n",
    "    aggs = {}\n",
    "    # for aggregation by month we calculate the\n",
    "    # number of unique month values and also the mean\n",
    "    aggs['month'] = ['nunique', 'mean']\n",
    "    aggs['weekofyear'] = ['nunique', 'mean']\n",
    "\n",
    "    # we aggregate by num1 and calculate sum, max, min\n",
    "    # and mean values of this column.\n",
    "    aggs['num1'] = ['sum', 'max', 'min', 'mean']\n",
    "\n",
    "    # for customer id, we calculate the total count\n",
    "    aggs['customer_id'] = ['size']\n",
    "\n",
    "    # again for customer id, we calculate the total unique\n",
    "    aggs['customer_id'] = ['nunique']\n",
    "\n",
    "    # we group by customer_id and calcualte the aggregates\n",
    "    agg_df = df.groupby('customer_id').agg(aggs)\n",
    "    agg_df = agg_df.reset_index()\n",
    "\n",
    "    return agg_df"
   ],
   "metadata": {
    "collapsed": false
   }
  },
  {
   "cell_type": "code",
   "execution_count": null,
   "outputs": [
    {
     "ename": "KeyboardInterrupt",
     "evalue": "",
     "output_type": "error",
     "traceback": [
      "\u001B[0;31m---------------------------------------------------------------------------\u001B[0m",
      "\u001B[0;31mKeyboardInterrupt\u001B[0m                         Traceback (most recent call last)",
      "Cell \u001B[0;32mIn[10], line 1\u001B[0m\n\u001B[0;32m----> 1\u001B[0m time \u001B[38;5;241m=\u001B[39m \u001B[43mgenerate_features\u001B[49m(df)\n",
      "Cell \u001B[0;32mIn[10], line 1\u001B[0m\n\u001B[0;32m----> 1\u001B[0m time \u001B[38;5;241m=\u001B[39m \u001B[43mgenerate_features\u001B[49m(df)\n",
      "File \u001B[0;32m/opt/pycharm-2023.1.1/plugins/python/helpers/pydev/_pydevd_bundle/pydevd_frame.py:747\u001B[0m, in \u001B[0;36mPyDBFrame.trace_dispatch\u001B[0;34m(self, frame, event, arg)\u001B[0m\n\u001B[1;32m    745\u001B[0m \u001B[38;5;66;03m# if thread has a suspend flag, we suspend with a busy wait\u001B[39;00m\n\u001B[1;32m    746\u001B[0m \u001B[38;5;28;01mif\u001B[39;00m info\u001B[38;5;241m.\u001B[39mpydev_state \u001B[38;5;241m==\u001B[39m STATE_SUSPEND:\n\u001B[0;32m--> 747\u001B[0m     \u001B[38;5;28;43mself\u001B[39;49m\u001B[38;5;241;43m.\u001B[39;49m\u001B[43mdo_wait_suspend\u001B[49m\u001B[43m(\u001B[49m\u001B[43mthread\u001B[49m\u001B[43m,\u001B[49m\u001B[43m \u001B[49m\u001B[43mframe\u001B[49m\u001B[43m,\u001B[49m\u001B[43m \u001B[49m\u001B[43mevent\u001B[49m\u001B[43m,\u001B[49m\u001B[43m \u001B[49m\u001B[43marg\u001B[49m\u001B[43m)\u001B[49m\n\u001B[1;32m    748\u001B[0m     \u001B[38;5;66;03m# No need to reset frame.f_trace to keep the same trace function.\u001B[39;00m\n\u001B[1;32m    749\u001B[0m     \u001B[38;5;28;01mreturn\u001B[39;00m \u001B[38;5;28mself\u001B[39m\u001B[38;5;241m.\u001B[39mtrace_dispatch\n",
      "File \u001B[0;32m/opt/pycharm-2023.1.1/plugins/python/helpers/pydev/_pydevd_bundle/pydevd_frame.py:144\u001B[0m, in \u001B[0;36mPyDBFrame.do_wait_suspend\u001B[0;34m(self, *args, **kwargs)\u001B[0m\n\u001B[1;32m    143\u001B[0m \u001B[38;5;28;01mdef\u001B[39;00m \u001B[38;5;21mdo_wait_suspend\u001B[39m(\u001B[38;5;28mself\u001B[39m, \u001B[38;5;241m*\u001B[39margs, \u001B[38;5;241m*\u001B[39m\u001B[38;5;241m*\u001B[39mkwargs):\n\u001B[0;32m--> 144\u001B[0m     \u001B[38;5;28;43mself\u001B[39;49m\u001B[38;5;241;43m.\u001B[39;49m\u001B[43m_args\u001B[49m\u001B[43m[\u001B[49m\u001B[38;5;241;43m0\u001B[39;49m\u001B[43m]\u001B[49m\u001B[38;5;241;43m.\u001B[39;49m\u001B[43mdo_wait_suspend\u001B[49m\u001B[43m(\u001B[49m\u001B[38;5;241;43m*\u001B[39;49m\u001B[43margs\u001B[49m\u001B[43m,\u001B[49m\u001B[43m \u001B[49m\u001B[38;5;241;43m*\u001B[39;49m\u001B[38;5;241;43m*\u001B[39;49m\u001B[43mkwargs\u001B[49m\u001B[43m)\u001B[49m\n",
      "File \u001B[0;32m/opt/pycharm-2023.1.1/plugins/python/helpers/pydev/pydevd.py:1160\u001B[0m, in \u001B[0;36mPyDB.do_wait_suspend\u001B[0;34m(self, thread, frame, event, arg, send_suspend_message, is_unhandled_exception)\u001B[0m\n\u001B[1;32m   1157\u001B[0m         from_this_thread\u001B[38;5;241m.\u001B[39mappend(frame_id)\n\u001B[1;32m   1159\u001B[0m \u001B[38;5;28;01mwith\u001B[39;00m \u001B[38;5;28mself\u001B[39m\u001B[38;5;241m.\u001B[39m_threads_suspended_single_notification\u001B[38;5;241m.\u001B[39mnotify_thread_suspended(thread_id, stop_reason):\n\u001B[0;32m-> 1160\u001B[0m     \u001B[38;5;28;43mself\u001B[39;49m\u001B[38;5;241;43m.\u001B[39;49m\u001B[43m_do_wait_suspend\u001B[49m\u001B[43m(\u001B[49m\u001B[43mthread\u001B[49m\u001B[43m,\u001B[49m\u001B[43m \u001B[49m\u001B[43mframe\u001B[49m\u001B[43m,\u001B[49m\u001B[43m \u001B[49m\u001B[43mevent\u001B[49m\u001B[43m,\u001B[49m\u001B[43m \u001B[49m\u001B[43marg\u001B[49m\u001B[43m,\u001B[49m\u001B[43m \u001B[49m\u001B[43msuspend_type\u001B[49m\u001B[43m,\u001B[49m\u001B[43m \u001B[49m\u001B[43mfrom_this_thread\u001B[49m\u001B[43m)\u001B[49m\n",
      "File \u001B[0;32m/opt/pycharm-2023.1.1/plugins/python/helpers/pydev/pydevd.py:1175\u001B[0m, in \u001B[0;36mPyDB._do_wait_suspend\u001B[0;34m(self, thread, frame, event, arg, suspend_type, from_this_thread)\u001B[0m\n\u001B[1;32m   1172\u001B[0m             \u001B[38;5;28mself\u001B[39m\u001B[38;5;241m.\u001B[39m_call_mpl_hook()\n\u001B[1;32m   1174\u001B[0m         \u001B[38;5;28mself\u001B[39m\u001B[38;5;241m.\u001B[39mprocess_internal_commands()\n\u001B[0;32m-> 1175\u001B[0m         \u001B[43mtime\u001B[49m\u001B[38;5;241;43m.\u001B[39;49m\u001B[43msleep\u001B[49m\u001B[43m(\u001B[49m\u001B[38;5;241;43m0.01\u001B[39;49m\u001B[43m)\u001B[49m\n\u001B[1;32m   1177\u001B[0m \u001B[38;5;28mself\u001B[39m\u001B[38;5;241m.\u001B[39mcancel_async_evaluation(get_current_thread_id(thread), \u001B[38;5;28mstr\u001B[39m(\u001B[38;5;28mid\u001B[39m(frame)))\n\u001B[1;32m   1179\u001B[0m \u001B[38;5;66;03m# process any stepping instructions\u001B[39;00m\n",
      "\u001B[0;31mKeyboardInterrupt\u001B[0m: "
     ]
    }
   ],
   "source": [
    "agg_df = generate_features(df)\n",
    "\n",
    "agg_df.sample(5)"
   ],
   "metadata": {
    "collapsed": false,
    "ExecuteTime": {
     "end_time": "2023-05-10T15:42:30.982272502Z",
     "start_time": "2023-05-10T15:42:30.981962624Z"
    }
   }
  }
 ],
 "metadata": {
  "kernelspec": {
   "display_name": "Python 3",
   "language": "python",
   "name": "python3"
  },
  "language_info": {
   "codemirror_mode": {
    "name": "ipython",
    "version": 2
   },
   "file_extension": ".py",
   "mimetype": "text/x-python",
   "name": "python",
   "nbconvert_exporter": "python",
   "pygments_lexer": "ipython2",
   "version": "2.7.6"
  }
 },
 "nbformat": 4,
 "nbformat_minor": 0
}
